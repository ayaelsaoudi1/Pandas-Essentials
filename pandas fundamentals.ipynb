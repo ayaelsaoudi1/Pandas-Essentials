{
 "cells": [
  {
   "cell_type": "markdown",
   "id": "e719c3fd-e0c4-4266-b75e-8615ad05892e",
   "metadata": {},
   "source": [
    "# **Pandas Fundamentals**"
   ]
  },
  {
   "cell_type": "code",
   "execution_count": 2,
   "id": "4bcbd098-6320-435e-a3c6-d47106898a2d",
   "metadata": {},
   "outputs": [],
   "source": [
    "import pandas as pd\n",
    "import numpy as np"
   ]
  },
  {
   "cell_type": "markdown",
   "id": "389ca8dd-e77c-4906-94c8-269181d8dbd7",
   "metadata": {},
   "source": [
    "## **1. Pandas Series**\n",
    "A **Series** in pandas is a **one-dimensional** array-like object that can hold various types of data, such as integers, floats, and strings.\n",
    "\n",
    "### **Key Features of Series:**\n",
    "- Represents a **single column** of data, similar to an Excel column.\n",
    "- Contains **index** (labels) and **values** (data).\n",
    "- Can be created from **lists, NumPy arrays, or dictionaries**.\n",
    "- Maintains **data consistency** (all elements should ideally be of the same type).\n",
    "- Supports **powerful built-in methods** for data manipulation.\n",
    "\n",
    "### **Creating a Pandas Series**"
   ]
  },
  {
   "cell_type": "code",
   "execution_count": 3,
   "id": "1e77479e-7195-4b57-b040-e22282106f7c",
   "metadata": {},
   "outputs": [
    {
     "name": "stdout",
     "output_type": "stream",
     "text": [
      "0    a\n",
      "1    b\n",
      "2    c\n",
      "3    d\n",
      "dtype: object\n"
     ]
    }
   ],
   "source": [
    "products = ['a', 'b', 'c', 'd']\n",
    "products_series = pd.Series(products)\n",
    "print(products_series)"
   ]
  },
  {
   "cell_type": "markdown",
   "id": "254eee96-96a2-487f-9111-d3283d09f92a",
   "metadata": {},
   "source": [
    "- The left column represents the **index**.\n",
    "- The **dtype** (data type) is inferred as `object` for non-numeric data."
   ]
  },
  {
   "cell_type": "code",
   "execution_count": 4,
   "id": "d931423a-f32c-40c0-9e7d-1532a159e8db",
   "metadata": {},
   "outputs": [
    {
     "name": "stdout",
     "output_type": "stream",
     "text": [
      "0    40\n",
      "1    45\n",
      "2    50\n",
      "3    60\n",
      "dtype: int64\n"
     ]
    }
   ],
   "source": [
    "daily_rates_dollars = pd.Series([40, 45, 50, 60])\n",
    "print(daily_rates_dollars)"
   ]
  },
  {
   "cell_type": "markdown",
   "id": "a6059503-67d0-419b-9001-35ab79731dba",
   "metadata": {},
   "source": [
    "### **Creating a Series from a NumPy Array**"
   ]
  },
  {
   "cell_type": "code",
   "execution_count": 5,
   "id": "cde8717e-9045-4743-a55b-161f2d07978d",
   "metadata": {},
   "outputs": [
    {
     "name": "stdout",
     "output_type": "stream",
     "text": [
      "0    10\n",
      "1    20\n",
      "2    30\n",
      "3    40\n",
      "4    50\n",
      "dtype: int32\n"
     ]
    }
   ],
   "source": [
    "array_a = np.array([10, 20, 30, 40, 50])\n",
    "series_a = pd.Series(array_a)\n",
    "print(series_a)"
   ]
  },
  {
   "cell_type": "markdown",
   "id": "5209ff58-2913-462b-bb05-f4a8c9bf9222",
   "metadata": {},
   "source": [
    "## **2. Working with Methods in Pandas**\n",
    "### **Attributes vs. Methods**\n",
    "| **Attributes (Passive)** | **Methods (Active)** |\n",
    "|-------------------------|---------------------|\n",
    "| Store metadata about an object | Perform actions on the object |\n",
    "| Do not require parentheses | Require parentheses when called |\n",
    "| Example: `.shape` (returns dimensions) | Example: `.head()` (returns first rows) |\n",
    "\n",
    "### **Example: Using Methods on a Series**"
   ]
  },
  {
   "cell_type": "code",
   "execution_count": 6,
   "id": "096c15ba-7d0e-47f4-8b9c-aeda02108a09",
   "metadata": {},
   "outputs": [
    {
     "name": "stdout",
     "output_type": "stream",
     "text": [
      "12200\n",
      "2000\n",
      "4000\n",
      "7/4/2017\n",
      "7/4/2014\n",
      "7/4/2014    2000\n",
      "7/4/2015    2000\n",
      "dtype: int64\n",
      "7/4/2017    4000\n",
      "7/4/2019    2000\n",
      "dtype: int64\n"
     ]
    }
   ],
   "source": [
    "start_dates_deposits = pd.Series({\n",
    "    '7/4/2014': 2000,\n",
    "    '7/4/2015': 2000,\n",
    "    '7/4/2016': 2200,\n",
    "    '7/4/2017': 4000,\n",
    "    '7/4/2019': 2000\n",
    "})\n",
    "\n",
    "print(start_dates_deposits.sum())  # Sum of deposits\n",
    "print(start_dates_deposits.min())  # Minimum value\n",
    "print(start_dates_deposits.max())  # Maximum value\n",
    "print(start_dates_deposits.idxmax())  # Index of max value\n",
    "print(start_dates_deposits.idxmin())  # Index of min value\n",
    "print(start_dates_deposits.head(2))  # First 2 rows\n",
    "print(start_dates_deposits.tail(2))  # Last 2 rows"
   ]
  },
  {
   "cell_type": "markdown",
   "id": "be894253-3e02-4a86-92e3-fcc7aa3b1c62",
   "metadata": {},
   "source": [
    "## **3. Parameters and Arguments in Pandas**\n",
    "- Pandas methods often come with **parameters** to modify how they operate.\n",
    "- A **parameter** is a named variable in a function, and an **argument** is the value passed to it.\n",
    "- Example:"
   ]
  },
  {
   "cell_type": "code",
   "execution_count": 7,
   "id": "7e6258c4-841c-45d7-83ee-03299873052b",
   "metadata": {},
   "outputs": [
    {
     "data": {
      "text/plain": [
       "7/4/2014    2000\n",
       "7/4/2015    2000\n",
       "dtype: int64"
      ]
     },
     "execution_count": 7,
     "metadata": {},
     "output_type": "execute_result"
    }
   ],
   "source": [
    "start_dates_deposits.head(n=2)  # Shows first 2 rows (default is 5)"
   ]
  },
  {
   "cell_type": "markdown",
   "id": "33e4be85-65e9-40f3-ac8b-df0482a64bef",
   "metadata": {},
   "source": [
    "## **4. Using `.unique()` and `.nunique()`**\n",
    "| Method | Purpose |\n",
    "|--------|---------|\n",
    "| `.unique()` | Returns all unique values in a Series |\n",
    "| `.nunique()` | Returns the number of unique values |\n",
    "\n",
    "Example:"
   ]
  },
  {
   "cell_type": "code",
   "execution_count": 8,
   "id": "c6b647c4-2dc1-498e-b1c0-7e995b0fff91",
   "metadata": {
    "scrolled": true
   },
   "outputs": [
    {
     "name": "stdout",
     "output_type": "stream",
     "text": [
      "296\n",
      "['Location 3' 'Location 6' 'Location 8' 'Location 26' 'Location 34'\n",
      " 'Location 25' 'Location 46' 'Location 156' 'Location 21' 'Location 13'\n",
      " 'Location 579' 'Location 602' 'Location 10' 'Location 44' 'Location 30'\n",
      " 'Location 48' 'Location 196' 'Location 64' 'Location 91' 'Location 62'\n",
      " 'Location 75' 'Location 42' 'Location 233' 'Location 95' 'Location 78'\n",
      " 'Location 61' 'Location 87' 'Location 19' 'Location 115' 'Location 350'\n",
      " 'Location 377' 'Location 17' 'Location 113' 'Location 81' 'Location 58'\n",
      " 'Location 212' 'Location 53' 'Location 337' 'Location 41' 'Location 632'\n",
      " 'Location 73' 'Location 214' 'Location 218' 'Location 38' 'Location 172'\n",
      " 'Location 197' 'Location 101' 'Location 185' 'Location 129'\n",
      " 'Location 235' 'Location 142' 'Location 50' 'Location 76' 'Location 11'\n",
      " 'Location 33' 'Location 22' 'Location 145' 'Location 203' 'Location 94'\n",
      " 'Location 573' 'Location 27' 'Location 186' 'Location 4' 'Location 70'\n",
      " 'Location 45' 'Location 262' 'Location 111' 'Location 84' 'Location 108'\n",
      " 'Location 7' 'Location 74' 'Location 450' 'Location 47' 'Location 37'\n",
      " 'Location 43' 'Location 286' 'Location 89' 'Location 24' 'Location 97'\n",
      " 'Location 144' 'Location 40' 'Location 128' 'Location 169' 'Location 399'\n",
      " 'Location 23' 'Location 191' 'Location 178' 'Location 510' 'Location 600'\n",
      " 'Location 188' 'Location 67' 'Location 49' 'Location 29' 'Location 222'\n",
      " 'Location 386' 'Location 88' 'Location 104' 'Location 405' 'Location 114'\n",
      " 'Location 259' 'Location 182' 'Location 12' 'Location 228' 'Location 149'\n",
      " 'Location 90' 'Location 109' 'Location 441' 'Location 421' 'Location 641'\n",
      " 'Location 195' 'Location 20' 'Location 161' 'Location 117' 'Location 200'\n",
      " 'Location 106' 'Location 31' 'Location 122' 'Location 541' 'Location 495'\n",
      " 'Location 193' 'Location 39' 'Location 9' 'Location 86' 'Location 107'\n",
      " 'Location 198' 'Location 318' 'Location 135' 'Location 177' 'Location 32'\n",
      " 'Location 591' 'Location 488' 'Location 418' 'Location 587'\n",
      " 'Location 454' 'Location 543' 'Location 489' 'Location 60' 'Location 52'\n",
      " 'Location 548' 'Location 15' 'Location 240' 'Location 658' 'Location 209'\n",
      " 'Location 151' 'Location 192' 'Location 364' 'Location 18' 'Location 503'\n",
      " 'Location 482' 'Location 460' 'Location 71' 'Location 69' 'Location 258'\n",
      " 'Location 204' 'Location 124' 'Location 168' 'Location 35' 'Location 296'\n",
      " 'Location 136' 'Location 28' 'Location 153' 'Location 99' 'Location 132'\n",
      " 'Location 427' 'Location 118' 'Location 127' 'Location 159'\n",
      " 'Location 154' 'Location 175' 'Location 120' 'Location 82' 'Location 152'\n",
      " 'Location 56' 'Location 282' 'Location 566' 'Location 365' 'Location 353'\n",
      " 'Location 66' 'Location 2' 'Location 323' 'Location 473' 'Location 206'\n",
      " 'Location 57' 'Location 68' 'Location 166' 'Location 1' 'Location 227'\n",
      " 'Location 79' 'Location 642' 'Location 105' 'Location 644' 'Location 547'\n",
      " 'Location 637' 'Location 59' 'Location 574' 'Location 529' 'Location 554'\n",
      " 'Location 275' 'Location 589' 'Location 160' 'Location 410'\n",
      " 'Location 146' 'Location 221' 'Location 265' 'Location 569'\n",
      " 'Location 157' 'Location 648' 'Location 165' 'Location 651'\n",
      " 'Location 266' 'Location 77' 'Location 158' 'Location 336' 'Location 72'\n",
      " 'Location 463' 'Location 253' 'Location 5' 'Location 431' 'Location 515'\n",
      " 'Location 226' 'Location 140' 'Location 110' 'Location 202'\n",
      " 'Location 634' 'Location 138' 'Location 217' 'Location 443'\n",
      " 'Location 627' 'Location 123' 'Location 528' 'Location 357'\n",
      " 'Location 187' 'Location 315' 'Location 112' 'Location 302'\n",
      " 'Location 194' 'Location 332' 'Location 208' 'Location 179'\n",
      " 'Location 199' 'Location 201' 'Location 174' 'Location 474'\n",
      " 'Location 184' 'Location 63' 'Location 512' 'Location 403' 'Location 436'\n",
      " 'Location 210' 'Location 468' 'Location 464' 'Location 98' 'Location 102'\n",
      " 'Location 325' 'Location 267' 'Location 173' 'Location 617'\n",
      " 'Location 141' 'Location 300' 'Location 216' 'Location 506'\n",
      " 'Location 647' 'Location 402' 'Location 239' 'Location 54' 'Location 137'\n",
      " 'Location 477' 'Location 586' 'Location 472' 'Location 374'\n",
      " 'Location 458' 'Location 180' 'Location 653' 'Location 16' 'Location 612'\n",
      " 'Location 505' 'Location 631' 'Location 299' 'Location 65' 'Location 342'\n",
      " 'Location 155' 'Location 511' 'Location 461' 'Location 244'\n",
      " 'Location 207' 'Location 597' 'Location 352' 'Location 533'\n",
      " 'Location 384' 'Location 80' 'Location 171' 'Location 143' 'Location 576'\n",
      " 'Location 139' 'Location 125' 'Location 181']\n"
     ]
    }
   ],
   "source": [
    "data = pd.read_csv(r\"C:\\Users\\user\\Desktop\\studying\\1- python\\dummy data\\Location.csv\")\n",
    "location_data = data['Location']\n",
    "\n",
    "print(location_data.nunique())  # Number of unique values\n",
    "print(location_data.unique())  # Array of unique values"
   ]
  },
  {
   "cell_type": "code",
   "execution_count": 9,
   "id": "2a59682f-7c0b-4081-b030-0ca2fc831b29",
   "metadata": {},
   "outputs": [
    {
     "data": {
      "text/plain": [
       "count            1043\n",
       "unique            296\n",
       "top       Location 25\n",
       "freq               31\n",
       "Name: Location, dtype: object"
      ]
     },
     "execution_count": 9,
     "metadata": {},
     "output_type": "execute_result"
    }
   ],
   "source": [
    "location_data.describe()"
   ]
  },
  {
   "cell_type": "markdown",
   "id": "80141fee-b7bb-463e-9b4b-d2d75e0f7d1b",
   "metadata": {},
   "source": [
    "- The **top** in `.describe()` represents the most frequent value.\n",
    "- **freq** shows how often the top value appears."
   ]
  },
  {
   "cell_type": "markdown",
   "id": "782e7033-880d-4095-beef-1b9022db44dd",
   "metadata": {},
   "source": [
    "## **5. Sorting Data with `.sort_values()`**\n",
    "- **Ascending Sort (Default)**:\n"
   ]
  },
  {
   "cell_type": "code",
   "execution_count": 10,
   "id": "366f2d9f-d501-45b6-b035-6dce2cde4c16",
   "metadata": {},
   "outputs": [
    {
     "name": "stdout",
     "output_type": "stream",
     "text": [
      "0      15\n",
      "2      23\n",
      "3      45\n",
      "4     444\n",
      "1    1000\n",
      "dtype: int64\n"
     ]
    }
   ],
   "source": [
    "numbers = pd.Series([15, 1000, 23, 45, 444])\n",
    "print(numbers.sort_values())  # Ascending order"
   ]
  },
  {
   "cell_type": "markdown",
   "id": "73a7fe72-1680-4fbb-be74-5f384c569abe",
   "metadata": {},
   "source": [
    "- **Descending Sort**:\n"
   ]
  },
  {
   "cell_type": "code",
   "execution_count": 11,
   "id": "94940456-0e5a-4467-a118-ca4c54f9ce39",
   "metadata": {},
   "outputs": [
    {
     "name": "stdout",
     "output_type": "stream",
     "text": [
      "1    1000\n",
      "4     444\n",
      "3      45\n",
      "2      23\n",
      "0      15\n",
      "dtype: int64\n"
     ]
    }
   ],
   "source": [
    "print(numbers.sort_values(ascending=False))  # Descending order"
   ]
  },
  {
   "cell_type": "markdown",
   "id": "5a4d9bd4-0fba-48b7-8633-cde1ee4844a0",
   "metadata": {},
   "source": [
    "## **6. Pandas DataFrame**\n",
    "A **DataFrame** is a **two-dimensional** table with rows and columns, similar to an Excel sheet.\n",
    "\n",
    "### **Key Features:**\n",
    "- Each **column** in a DataFrame is a **Series**.\n",
    "- Supports multiple data types within different columns.\n",
    "- Has **index** (row labels) and **column names**.\n",
    "\n",
    "### **Creating a DataFrame**"
   ]
  },
  {
   "cell_type": "code",
   "execution_count": 12,
   "id": "7c1f0df0-dbb8-49ed-9f16-55f60e07925b",
   "metadata": {},
   "outputs": [
    {
     "name": "stdout",
     "output_type": "stream",
     "text": [
      "       Column 1  Column 2  Column 3\n",
      "Row 1         3         2         1\n",
      "Row 2         6         3         2\n"
     ]
    }
   ],
   "source": [
    "array_a = np.array([[3, 2, 1], [6, 3, 2]])\n",
    "df = pd.DataFrame(array_a, columns=['Column 1', 'Column 2', 'Column 3'], index=['Row 1', 'Row 2'])\n",
    "print(df)"
   ]
  },
  {
   "cell_type": "markdown",
   "id": "7e95ebe0-dcbb-4a6a-9e50-a5d41ac6e940",
   "metadata": {},
   "source": [
    "## **7. Common Attributes for DataFrames**"
   ]
  },
  {
   "cell_type": "code",
   "execution_count": 13,
   "id": "452e6dac-98d2-45af-b478-64b720990390",
   "metadata": {
    "scrolled": true
   },
   "outputs": [
    {
     "name": "stdout",
     "output_type": "stream",
     "text": [
      "Index([   1,    2,    3,    4,    5,    6,    7,    8,    9,   10,\n",
      "       ...\n",
      "       1034, 1035, 1036, 1037, 1038, 1039, 1040, 1041, 1042, 1043],\n",
      "      dtype='int64', name='LoanID', length=1043)\n",
      "Index(['StringID', 'Product', 'CustomerGender', 'Location', 'Region',\n",
      "       'TotalPrice', 'StartDate', 'Deposit', 'DailyRate', 'TotalDaysYr',\n",
      "       'AmtPaid36', 'AmtPaid60', 'AmtPaid360', 'LoanStatus'],\n",
      "      dtype='object')\n",
      "[Index([   1,    2,    3,    4,    5,    6,    7,    8,    9,   10,\n",
      "       ...\n",
      "       1034, 1035, 1036, 1037, 1038, 1039, 1040, 1041, 1042, 1043],\n",
      "      dtype='int64', name='LoanID', length=1043), Index(['StringID', 'Product', 'CustomerGender', 'Location', 'Region',\n",
      "       'TotalPrice', 'StartDate', 'Deposit', 'DailyRate', 'TotalDaysYr',\n",
      "       'AmtPaid36', 'AmtPaid60', 'AmtPaid360', 'LoanStatus'],\n",
      "      dtype='object')]\n",
      "StringID           object\n",
      "Product            object\n",
      "CustomerGender     object\n",
      "Location           object\n",
      "Region             object\n",
      "TotalPrice        float64\n",
      "StartDate          object\n",
      "Deposit             int64\n",
      "DailyRate           int64\n",
      "TotalDaysYr         int64\n",
      "AmtPaid36           int64\n",
      "AmtPaid60           int64\n",
      "AmtPaid360          int64\n",
      "LoanStatus         object\n",
      "dtype: object\n",
      "(1043, 14)\n",
      "[['LoanID_1' 'Product B' 'Female' ... 4166 14621 'Active']\n",
      " ['LoanID_2' 'Product D' 'Female' ... 4096 16041 'Active']\n",
      " ['LoanID_3' 'Product B' 'Male' ... 3205 16340 nan]\n",
      " ...\n",
      " ['LoanID_1041' 'Product A' 'NotSpecified' ... 5143 16617\n",
      "  'Finished Payment']\n",
      " ['LoanID_1042' 'Product B' 'Female' ... 3462 15617 'Finished Payment']\n",
      " ['LoanID_1043' 'Product A' 'NotSpecified' ... 4743 16617\n",
      "  'Finished Payment']]\n"
     ]
    }
   ],
   "source": [
    "data = pd.read_csv(r\"C:\\Users\\user\\Desktop\\studying\\1- python\\dummy data\\Lending-company.csv\", index_col='LoanID')\n",
    "lending_data = data.copy()\n",
    "\n",
    "print(lending_data.index)  # Get index\n",
    "print(lending_data.columns)  # Get column names\n",
    "print(lending_data.axes)  # Get both index and column names\n",
    "print(lending_data.dtypes)  # Check data types\n",
    "print(lending_data.shape)  # Get dimensions (rows, columns)\n",
    "print(lending_data.values)  # Convert to NumPy array"
   ]
  },
  {
   "cell_type": "markdown",
   "id": "1eb4db91-562a-4e4d-903a-f71eb10ca451",
   "metadata": {},
   "source": [
    "## **8. Data Selection in Pandas DataFrames**\n",
    "### **Selecting Columns**"
   ]
  },
  {
   "cell_type": "code",
   "execution_count": 15,
   "id": "0dbc4ed1-0491-43f8-95e2-a21171ea55b9",
   "metadata": {
    "scrolled": true
   },
   "outputs": [
    {
     "name": "stdout",
     "output_type": "stream",
     "text": [
      "LoanID\n",
      "1        Location 3\n",
      "2        Location 6\n",
      "3        Location 8\n",
      "4       Location 26\n",
      "5       Location 34\n",
      "           ...     \n",
      "1039    Location 73\n",
      "1040    Location 82\n",
      "1041    Location 11\n",
      "1042    Location 26\n",
      "1043    Location 94\n",
      "Name: Location, Length: 1043, dtype: object\n",
      "           Location    Product     StringID\n",
      "LoanID                                     \n",
      "1        Location 3  Product B     LoanID_1\n",
      "2        Location 6  Product D     LoanID_2\n",
      "3        Location 8  Product B     LoanID_3\n",
      "4       Location 26  Product A     LoanID_4\n",
      "5       Location 34  Product B     LoanID_5\n",
      "...             ...        ...          ...\n",
      "1039    Location 73  Product B  LoanID_1039\n",
      "1040    Location 82  Product A  LoanID_1040\n",
      "1041    Location 11  Product A  LoanID_1041\n",
      "1042    Location 26  Product B  LoanID_1042\n",
      "1043    Location 94  Product A  LoanID_1043\n",
      "\n",
      "[1043 rows x 3 columns]\n"
     ]
    }
   ],
   "source": [
    "print(lending_data['Location'])  # Select a column\n",
    "print(lending_data[['Location', 'Product','StringID']])  # Select multiple columns"
   ]
  },
  {
   "cell_type": "markdown",
   "id": "0979fc94-c9e2-4ca4-b7ff-fd1f56d4bab5",
   "metadata": {},
   "source": [
    "### **Using `.iloc[]` (Integer Location Indexing)**\n",
    "- **Position-based indexing** (row & column numbers).\n"
   ]
  },
  {
   "cell_type": "code",
   "execution_count": 16,
   "id": "1e724155-35c3-481a-b43e-fbab96c9671f",
   "metadata": {
    "scrolled": true
   },
   "outputs": [
    {
     "name": "stdout",
     "output_type": "stream",
     "text": [
      "Location 6\n",
      "          Product CustomerGender    Location\n",
      "LoanID                                      \n",
      "1       Product B         Female  Location 3\n",
      "2       Product D         Female  Location 6\n",
      "3       Product B           Male  Location 8\n",
      "LoanID\n",
      "1             Female\n",
      "2             Female\n",
      "3               Male\n",
      "4               Male\n",
      "5             Female\n",
      "            ...     \n",
      "1039            Male\n",
      "1040            Male\n",
      "1041    NotSpecified\n",
      "1042          Female\n",
      "1043    NotSpecified\n",
      "Name: CustomerGender, Length: 1043, dtype: object\n",
      "          Product     Location\n",
      "LoanID                        \n",
      "2       Product D   Location 6\n",
      "4       Product A  Location 26\n"
     ]
    }
   ],
   "source": [
    "print(lending_data.iloc[1, 3])  # Second row, fourth column\n",
    "print(lending_data.iloc[0:3, 1:4])  # Rows 0-2, Columns 1-3\n",
    "print(lending_data.iloc[:, 2])  # All rows, third column\n",
    "print(lending_data.iloc[[1, 3], [1, 3]])  # Rows 2 & 4, Columns 2 & 4"
   ]
  },
  {
   "cell_type": "markdown",
   "id": "2bc051f1-2918-4ad8-b229-50134d4e7b92",
   "metadata": {},
   "source": [
    "## **9. Using `.loc[]` for Label-Based Indexing**\n",
    "- **Explicit label-based indexing** (row & column labels)."
   ]
  },
  {
   "cell_type": "code",
   "execution_count": 17,
   "id": "55ce6332-13ca-4857-b33c-0f8c2c11f4dd",
   "metadata": {
    "scrolled": true
   },
   "outputs": [
    {
     "name": "stdout",
     "output_type": "stream",
     "text": [
      "LoanID                     1\n",
      "Product            Product B\n",
      "CustomerGender        Female\n",
      "Location          Location 3\n",
      "Region              Region 2\n",
      "TotalPrice           17600.0\n",
      "StartDate         04/07/2018\n",
      "Deposit                 2200\n",
      "DailyRate                 45\n",
      "TotalDaysYr              365\n",
      "AmtPaid36               3221\n",
      "AmtPaid60               4166\n",
      "AmtPaid360             14621\n",
      "LoanStatus            Active\n",
      "Name: LoanID_1, dtype: object\n",
      "StringID\n",
      "LoanID_1       Product B\n",
      "LoanID_2       Product D\n",
      "LoanID_3       Product B\n",
      "LoanID_4       Product A\n",
      "LoanID_5       Product B\n",
      "                 ...    \n",
      "LoanID_1039    Product B\n",
      "LoanID_1040    Product A\n",
      "LoanID_1041    Product A\n",
      "LoanID_1042    Product B\n",
      "LoanID_1043    Product A\n",
      "Name: Product, Length: 1043, dtype: object\n",
      "            Product    Location\n",
      "StringID                       \n",
      "LoanID_1  Product B  Location 3\n",
      "LoanID_3  Product B  Location 8\n"
     ]
    }
   ],
   "source": [
    "data = pd.read_csv(r\"C:\\Users\\user\\Desktop\\studying\\1- python\\dummy data\\Lending-company.csv\", index_col='StringID')\n",
    "\n",
    "print(data.loc['LoanID_1'])  # Select row by index label\n",
    "print(data.loc[:, 'Product'])  # Select column by label\n",
    "print(data.loc[['LoanID_1', 'LoanID_3'], ['Product', 'Location']])  # Select specific rows & columns"
   ]
  },
  {
   "cell_type": "markdown",
   "id": "088c6216-cd2e-4333-86d0-f77908599b15",
   "metadata": {},
   "source": [
    "## **Conclusion**\n",
    "- **Series**: One-dimensional labeled array.\n",
    "- **DataFrame**: Two-dimensional table with labeled columns.\n",
    "- **Methods & Attributes**: Used for data operations.\n",
    "- **Indexing**: `.iloc[]` (integer-based) vs `.loc[]` (label-based).\n",
    "\n"
   ]
  },
  {
   "cell_type": "code",
   "execution_count": null,
   "id": "b363a3f4-07f1-4e56-a257-630bd3430c4f",
   "metadata": {},
   "outputs": [],
   "source": []
  }
 ],
 "metadata": {
  "kernelspec": {
   "display_name": "Python 3 (ipykernel)",
   "language": "python",
   "name": "python3"
  },
  "language_info": {
   "codemirror_mode": {
    "name": "ipython",
    "version": 3
   },
   "file_extension": ".py",
   "mimetype": "text/x-python",
   "name": "python",
   "nbconvert_exporter": "python",
   "pygments_lexer": "ipython3",
   "version": "3.12.4"
  }
 },
 "nbformat": 4,
 "nbformat_minor": 5
}
